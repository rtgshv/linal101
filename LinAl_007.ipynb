{
 "cells": [
  {
   "cell_type": "code",
   "execution_count": 58,
   "metadata": {},
   "outputs": [],
   "source": [
    "import numpy as np\n",
    "\n",
    "import scipy.linalg as la\n",
    "\n",
    "import sympy as sp"
   ]
  },
  {
   "cell_type": "markdown",
   "metadata": {},
   "source": [
    "Lecture 14. Orthogonality"
   ]
  },
  {
   "cell_type": "markdown",
   "metadata": {},
   "source": [
    "Orthogonal vectors:   "
   ]
  },
  {
   "cell_type": "code",
   "execution_count": 4,
   "metadata": {},
   "outputs": [
    {
     "data": {
      "text/plain": [
       "0"
      ]
     },
     "execution_count": 4,
     "metadata": {},
     "output_type": "execute_result"
    }
   ],
   "source": [
    "x = np.array([1,0])\n",
    "y = np.array([0,1])\n",
    "np.dot(x.T,y)"
   ]
  },
  {
   "cell_type": "markdown",
   "metadata": {},
   "source": [
    "|x|^2 + |y|^2 = |x+y|^2"
   ]
  },
  {
   "cell_type": "markdown",
   "metadata": {},
   "source": [
    "x.Tx - length squared\n",
    "\n",
    "x.Tx+y.Ty = (x+y).T(x+y)\n",
    "\n",
    "x.Tx+y.Ty = x.Tx+x.Ty+y.Tx+y.Ty\n",
    "\n",
    "2x.Ty = 0\n",
    "\n",
    "x.Ty = 0"
   ]
  },
  {
   "cell_type": "code",
   "execution_count": 9,
   "metadata": {},
   "outputs": [
    {
     "data": {
      "text/plain": [
       "1"
      ]
     },
     "execution_count": 9,
     "metadata": {},
     "output_type": "execute_result"
    }
   ],
   "source": [
    "np.dot(x.T,x)"
   ]
  },
  {
   "cell_type": "code",
   "execution_count": 10,
   "metadata": {},
   "outputs": [
    {
     "data": {
      "text/plain": [
       "1"
      ]
     },
     "execution_count": 10,
     "metadata": {},
     "output_type": "execute_result"
    }
   ],
   "source": [
    "np.dot(y.T,y)"
   ]
  },
  {
   "cell_type": "code",
   "execution_count": 11,
   "metadata": {},
   "outputs": [
    {
     "data": {
      "text/plain": [
       "2"
      ]
     },
     "execution_count": 11,
     "metadata": {},
     "output_type": "execute_result"
    }
   ],
   "source": [
    "np.dot((x+y).T,(x+y))"
   ]
  },
  {
   "cell_type": "markdown",
   "metadata": {},
   "source": [
    "Dot product of orthogonal vectors is 0."
   ]
  },
  {
   "cell_type": "markdown",
   "metadata": {},
   "source": [
    "0 vector is orthogonal to everthing."
   ]
  },
  {
   "cell_type": "markdown",
   "metadata": {},
   "source": [
    "Now to subspaces"
   ]
  },
  {
   "cell_type": "markdown",
   "metadata": {},
   "source": [
    "Supspace S is orthogonal to subspace T:"
   ]
  },
  {
   "cell_type": "markdown",
   "metadata": {},
   "source": [
    "means every vector in S is orthogonal to every vector in T. They don't intersect (except of 0 vector)."
   ]
  },
  {
   "cell_type": "markdown",
   "metadata": {},
   "source": [
    "Rowspace is orthogonal to a nullspace.\n",
    "\n",
    "Ax = 0\n",
    "\n",
    "Means the dot product of all the rows of A and x is 0, and x is a vector in nullspace as a definition."
   ]
  },
  {
   "cell_type": "markdown",
   "metadata": {},
   "source": [
    "c1(row1).Tx = 0\n",
    "\n",
    "\"+\" = 0\n",
    "\n",
    "c2(row2).Tx = 0"
   ]
  },
  {
   "cell_type": "markdown",
   "metadata": {},
   "source": [
    "Nullspace and rowspace are orthogonal complements in R^n."
   ]
  },
  {
   "cell_type": "markdown",
   "metadata": {},
   "source": [
    "Nullspace contains all vectors perpedicular to rowspace."
   ]
  },
  {
   "cell_type": "markdown",
   "metadata": {},
   "source": [
    "Coming: Ax = b\n",
    "\n",
    "\"solve\" when there is no solution.\n",
    "\n",
    "m > n\n",
    "\n",
    "b is not in acolumnspace\n",
    "\n",
    "Practically too many equations with noise on a right side. E.g. finding the best solution.\n",
    "\n",
    "Drop some equtions is not a solution, as by droping them we literally drop the measurements and loose information.\n",
    "\n"
   ]
  },
  {
   "cell_type": "markdown",
   "metadata": {},
   "source": [
    "A.TA - is a square symmetric matrix (A.TA).T = A.TA"
   ]
  },
  {
   "cell_type": "markdown",
   "metadata": {},
   "source": [
    "A.TAx' = A.Tb  is a way to go. x' is a best solution, not a solution to original system.\n",
    "\n",
    "N(A.TA) = N(A)\n",
    "\n",
    "rank of A.TA  = rank of A\n",
    "\n",
    "A.TA is invertible if A has independant columns."
   ]
  },
  {
   "cell_type": "markdown",
   "metadata": {},
   "source": [
    "Lecture 15. Projections."
   ]
  },
  {
   "cell_type": "markdown",
   "metadata": {},
   "source": [
    "a.T(b-xa) = 0 - projection of a vector b to a vector a.\n",
    "\n",
    "xa.Ta = a.Tb\n",
    "\n",
    "x = (a.Tb)/(a.Ta)\n",
    "\n",
    "p = ax\n",
    "\n",
    "p = a(a.Tb)/(a.Ta)\n",
    "\n",
    "Doubling b will double p - projection.\n",
    "\n",
    "proj p = Pb\n",
    "\n",
    "P = aa.T/a.Ta - n x n matrix\n",
    "\n",
    "C(P)  = a line through a\n",
    "\n",
    "rank(P) = 1\n",
    "\n",
    "P.T = P\n",
    "\n",
    "The projection of a projection is the same projection.\n",
    "\n",
    "P^2 = P\n"
   ]
  },
  {
   "cell_type": "markdown",
   "metadata": {},
   "source": [
    "Why to even project?"
   ]
  },
  {
   "cell_type": "markdown",
   "metadata": {},
   "source": [
    "Because Ax = b may have no solution, thus we project b to a columnspace of A and this is exactly the closest and the best possible solution."
   ]
  },
  {
   "cell_type": "markdown",
   "metadata": {},
   "source": [
    "e = b-p  - error. The reason why we project, and projection sort of eliminates the error."
   ]
  },
  {
   "cell_type": "markdown",
   "metadata": {},
   "source": [
    "p = x1'a1 + x2'a2  = Ax'"
   ]
  },
  {
   "cell_type": "markdown",
   "metadata": {},
   "source": [
    "p = Ax'"
   ]
  },
  {
   "cell_type": "markdown",
   "metadata": {},
   "source": [
    "Find a solution, such as error vector is perpendicular to the plain. b = Ax'\n"
   ]
  },
  {
   "cell_type": "markdown",
   "metadata": {},
   "source": [
    "a1.T(b-Ax' = 0 a2.T(b-Ax')"
   ]
  },
  {
   "cell_type": "markdown",
   "metadata": {},
   "source": [
    "A.T(b-Ax') = 0"
   ]
  },
  {
   "cell_type": "markdown",
   "metadata": {},
   "source": [
    "e in N(A.T)\n",
    "\n",
    "e perpendicular to C(A) - YES!"
   ]
  },
  {
   "cell_type": "markdown",
   "metadata": {},
   "source": [
    "Key: A.TAx' = A.Tb"
   ]
  },
  {
   "cell_type": "markdown",
   "metadata": {},
   "source": [
    "Projection matrix.\n",
    "\n",
    "x'  = (A.TA)^(-1)A.Tb\n",
    "\n",
    "p = Ax' = A(A.TA)^(-1)A.T b\n",
    "\n",
    "matrix P = A(A.TA)^(-1)A.T\n",
    "\n",
    "for squared A; P  = AA^-1(A.T)^-1A.T = I, which will mean it covers the b, and P prohjects b to b.\n",
    "\n",
    "You can't do this for rectangular.\n",
    "\n",
    "P.T = P\n",
    "\n",
    "P^2 = P\n",
    "\n"
   ]
  },
  {
   "cell_type": "markdown",
   "metadata": {},
   "source": [
    "Least squares. Fitting 3 points with a best line. Practically a linear regression."
   ]
  },
  {
   "cell_type": "markdown",
   "metadata": {},
   "source": [
    "Lecture 16"
   ]
  },
  {
   "cell_type": "markdown",
   "metadata": {},
   "source": [
    "Example:\n",
    "\n",
    "C+D = 1\n",
    "\n",
    "C+2D = 2\n",
    "\n",
    "C+3D = 2"
   ]
  },
  {
   "cell_type": "code",
   "execution_count": 6,
   "metadata": {},
   "outputs": [],
   "source": [
    "A = np.array([[1,1],\n",
    "             [1,2],\n",
    "             [1,3]])\n",
    "\n",
    "b = np.array([1,2,2])"
   ]
  },
  {
   "cell_type": "code",
   "execution_count": 11,
   "metadata": {},
   "outputs": [],
   "source": [
    "P = np.dot(np.dot(A, np.linalg.inv(np.dot(A.T,A))),A.T)"
   ]
  },
  {
   "cell_type": "code",
   "execution_count": 12,
   "metadata": {},
   "outputs": [
    {
     "data": {
      "text/plain": [
       "array([[ 0.83333333,  0.33333333, -0.16666667],\n",
       "       [ 0.33333333,  0.33333333,  0.33333333],\n",
       "       [-0.16666667,  0.33333333,  0.83333333]])"
      ]
     },
     "execution_count": 12,
     "metadata": {},
     "output_type": "execute_result"
    }
   ],
   "source": [
    "P"
   ]
  },
  {
   "cell_type": "code",
   "execution_count": 32,
   "metadata": {},
   "outputs": [
    {
     "data": {
      "text/plain": [
       "array([ 1.16666667,  1.66666667,  2.16666667])"
      ]
     },
     "execution_count": 32,
     "metadata": {},
     "output_type": "execute_result"
    }
   ],
   "source": [
    "newb = np.dot(P,b)\n",
    "newb"
   ]
  },
  {
   "cell_type": "markdown",
   "metadata": {},
   "source": [
    "Ax = newb"
   ]
  },
  {
   "cell_type": "code",
   "execution_count": 70,
   "metadata": {},
   "outputs": [
    {
     "data": {
      "text/plain": [
       "array([[1, 1],\n",
       "       [1, 2],\n",
       "       [1, 3]])"
      ]
     },
     "execution_count": 70,
     "metadata": {},
     "output_type": "execute_result"
    }
   ],
   "source": [
    "A"
   ]
  },
  {
   "cell_type": "markdown",
   "metadata": {},
   "source": [
    "Practically just solve A.TAx' = A.Tb"
   ]
  },
  {
   "cell_type": "code",
   "execution_count": 90,
   "metadata": {},
   "outputs": [
    {
     "data": {
      "text/plain": [
       "array([ 0.66666667,  0.5       ])"
      ]
     },
     "execution_count": 90,
     "metadata": {},
     "output_type": "execute_result"
    }
   ],
   "source": [
    "xhat = la.solve(np.dot(A.T,A),np.dot(A.T,b))\n",
    "xhat"
   ]
  },
  {
   "cell_type": "code",
   "execution_count": 88,
   "metadata": {},
   "outputs": [
    {
     "data": {
      "text/plain": [
       "array([-0., -0., -0.])"
      ]
     },
     "execution_count": 88,
     "metadata": {},
     "output_type": "execute_result"
    }
   ],
   "source": [
    "np.around(np.dot(A,xhat) - newb)"
   ]
  },
  {
   "cell_type": "code",
   "execution_count": 89,
   "metadata": {},
   "outputs": [
    {
     "data": {
      "text/plain": [
       "array([[ 2.33333333, -1.        ],\n",
       "       [-1.        ,  0.5       ]])"
      ]
     },
     "execution_count": 89,
     "metadata": {},
     "output_type": "execute_result"
    }
   ],
   "source": [
    "la.inv(np.dot(A.T,A))"
   ]
  },
  {
   "cell_type": "code",
   "execution_count": null,
   "metadata": {},
   "outputs": [],
   "source": []
  }
 ],
 "metadata": {
  "kernelspec": {
   "display_name": "Python 3",
   "language": "python",
   "name": "python3"
  },
  "language_info": {
   "codemirror_mode": {
    "name": "ipython",
    "version": 3
   },
   "file_extension": ".py",
   "mimetype": "text/x-python",
   "name": "python",
   "nbconvert_exporter": "python",
   "pygments_lexer": "ipython3",
   "version": "3.5.2"
  }
 },
 "nbformat": 4,
 "nbformat_minor": 2
}
