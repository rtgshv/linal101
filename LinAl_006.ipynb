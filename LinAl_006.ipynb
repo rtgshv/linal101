{
 "cells": [
  {
   "cell_type": "code",
   "execution_count": 1,
   "metadata": {},
   "outputs": [],
   "source": [
    "import numpy as np"
   ]
  },
  {
   "cell_type": "markdown",
   "metadata": {},
   "source": [
    "Lecture 13 is a review for the 1st exam. Sort of wrap up."
   ]
  },
  {
   "cell_type": "markdown",
   "metadata": {},
   "source": [
    "5x3 U r = 3\n",
    "\n",
    "N(U) = {[0/0/0]}\n",
    "\n",
    "B = [U/2U] \n",
    "\n",
    "Reduced echelon form\n",
    "\n",
    "[U/0]\n",
    "\n",
    "r=3\n",
    "\n",
    "C = [U,U/U,0]\n",
    "\n",
    "-> [U,U/0,-U] - > [U,0/0,-U] -> [U,0/0,U]\n",
    "\n",
    "r = r(U)x2 = 6\n",
    "\n",
    "dim N(C.T) ?\n",
    "\n",
    "C - 10x6 =>\n",
    "\n",
    "dim N(C.T) = 10 - r = 6\n",
    "\n"
   ]
  },
  {
   "cell_type": "markdown",
   "metadata": {},
   "source": [
    "Ax = [2/4/2]\n",
    "\n",
    "x=[2/0/0]+c[1/1/0]+d[0/0/1]\n",
    "\n",
    "A is 3x3\n",
    "\n",
    "r = 1\n",
    "\n",
    "dim N(A) = 2\n",
    "\n",
    "A = [1,?,?/2,?,?/1,?,?]\n",
    "\n",
    "A = [1,?,0/2,?,0/1,?,0]\n",
    "\n",
    "A = [1,-1,0/2,-2,0/1,-1,0]\n",
    "\n",
    "\n",
    "\n"
   ]
  },
  {
   "cell_type": "code",
   "execution_count": 2,
   "metadata": {},
   "outputs": [],
   "source": [
    "A = np.array([[1,-1,0],\n",
    "              [2,-2,0],\n",
    "              [1,-1,0]])"
   ]
  },
  {
   "cell_type": "code",
   "execution_count": 3,
   "metadata": {},
   "outputs": [],
   "source": [
    "b = np.array([2,4,2])"
   ]
  },
  {
   "cell_type": "code",
   "execution_count": 4,
   "metadata": {},
   "outputs": [
    {
     "data": {
      "text/plain": [
       "array([2, 4, 2])"
      ]
     },
     "execution_count": 4,
     "metadata": {},
     "output_type": "execute_result"
    }
   ],
   "source": [
    "np.dot(A,[2,0,0])"
   ]
  },
  {
   "cell_type": "code",
   "execution_count": 5,
   "metadata": {},
   "outputs": [
    {
     "data": {
      "text/plain": [
       "array([0, 0, 0])"
      ]
     },
     "execution_count": 5,
     "metadata": {},
     "output_type": "execute_result"
    }
   ],
   "source": [
    "np.dot(A,[1,1,0])"
   ]
  },
  {
   "cell_type": "code",
   "execution_count": 6,
   "metadata": {},
   "outputs": [
    {
     "data": {
      "text/plain": [
       "array([0, 0, 0])"
      ]
     },
     "execution_count": 6,
     "metadata": {},
     "output_type": "execute_result"
    }
   ],
   "source": [
    "np.dot(A,[0,0,1])"
   ]
  },
  {
   "cell_type": "markdown",
   "metadata": {},
   "source": [
    "Ax=b can be solved if b is in a columnspace. => b is a multiple of [1,2,1]"
   ]
  },
  {
   "cell_type": "markdown",
   "metadata": {},
   "source": [
    "If N(A) is 0-vector and A is a square matrix (m=n) = > N(A.T) is 0-vector as well."
   ]
  },
  {
   "cell_type": "markdown",
   "metadata": {},
   "source": [
    "T or F B^2 = 0 => B=0 - F\n",
    "\n",
    "e.g. B = [[0,1],\n",
    "         [0,0]]"
   ]
  },
  {
   "cell_type": "markdown",
   "metadata": {},
   "source": [
    "T or F nxn independent columns. Ax=b is always solvable - T\n",
    "they form basis. Also A is invertible."
   ]
  },
  {
   "cell_type": "code",
   "execution_count": 7,
   "metadata": {},
   "outputs": [],
   "source": [
    "B = np.dot(np.array([[1,1,0],\n",
    "              [0,1,0],\n",
    "              [1,0,1]]),np.array([[1,0,-1,2],\n",
    "                                 [0,1,1,-1],\n",
    "                                 [0,0,0,0]]))"
   ]
  },
  {
   "cell_type": "code",
   "execution_count": 8,
   "metadata": {},
   "outputs": [
    {
     "data": {
      "text/plain": [
       "(3, 4)"
      ]
     },
     "execution_count": 8,
     "metadata": {},
     "output_type": "execute_result"
    }
   ],
   "source": [
    "B.shape"
   ]
  },
  {
   "cell_type": "markdown",
   "metadata": {},
   "source": [
    "N(CD) = N(D) if C is invertible.\n",
    "\n",
    "dim N(B)  = 2"
   ]
  },
  {
   "cell_type": "markdown",
   "metadata": {},
   "source": [
    "min 33"
   ]
  },
  {
   "cell_type": "code",
   "execution_count": 9,
   "metadata": {},
   "outputs": [
    {
     "data": {
      "text/plain": [
       "array([[ 1,  1,  0,  1],\n",
       "       [ 0,  1,  1, -1],\n",
       "       [ 1,  0, -1,  2]])"
      ]
     },
     "execution_count": 9,
     "metadata": {},
     "output_type": "execute_result"
    }
   ],
   "source": [
    "B"
   ]
  },
  {
   "cell_type": "markdown",
   "metadata": {},
   "source": [
    "If A and B same 4 subspaces then A = cB?\n",
    "False"
   ]
  },
  {
   "cell_type": "markdown",
   "metadata": {},
   "source": [
    "Example: A,B any invertible 6x6, but they are not the same."
   ]
  },
  {
   "cell_type": "markdown",
   "metadata": {},
   "source": [
    "If rows are exchanged, which subspaces are the same: RowSpace and the NullSpace"
   ]
  },
  {
   "cell_type": "markdown",
   "metadata": {},
   "source": [
    "v = [1,2,3] can't be both in a NullSpace and be a row of A. Why not?"
   ]
  },
  {
   "cell_type": "markdown",
   "metadata": {},
   "source": [
    "Av neq 0. Intersection of nullspace and rowspace is 0 vector, nullspace is perpendicular to rowspace."
   ]
  },
  {
   "cell_type": "code",
   "execution_count": null,
   "metadata": {},
   "outputs": [],
   "source": []
  }
 ],
 "metadata": {
  "kernelspec": {
   "display_name": "Python 3",
   "language": "python",
   "name": "python3"
  },
  "language_info": {
   "codemirror_mode": {
    "name": "ipython",
    "version": 3
   },
   "file_extension": ".py",
   "mimetype": "text/x-python",
   "name": "python",
   "nbconvert_exporter": "python",
   "pygments_lexer": "ipython3",
   "version": "3.5.2"
  }
 },
 "nbformat": 4,
 "nbformat_minor": 2
}
