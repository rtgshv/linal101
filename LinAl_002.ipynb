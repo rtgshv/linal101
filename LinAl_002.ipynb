{
 "cells": [
  {
   "cell_type": "code",
   "execution_count": 1,
   "metadata": {},
   "outputs": [],
   "source": [
    "import numpy as np"
   ]
  },
  {
   "cell_type": "markdown",
   "metadata": {},
   "source": [
    "Vector spaces. Starting from Lecture 5"
   ]
  },
  {
   "cell_type": "markdown",
   "metadata": {},
   "source": [
    "R^2 = all 2-dimensial vectors with Real numbers. [1,2] [Pi,e] etc etc etc"
   ]
  },
  {
   "cell_type": "markdown",
   "metadata": {},
   "source": [
    "R^3 = all 3-dimensial vectors with Real numbers. [1,2,3] [Pi,e,1.(3)] etc etc etc"
   ]
  },
  {
   "cell_type": "markdown",
   "metadata": {},
   "source": [
    "R^2, a line through [0,0], a [0,0] itself are subspaces of R^2."
   ]
  },
  {
   "cell_type": "markdown",
   "metadata": {},
   "source": [
    "R^3, a plane through [0,0], a line through [0,0], a [0,0] itself are subspaces of R^3."
   ]
  },
  {
   "cell_type": "code",
   "execution_count": 5,
   "metadata": {},
   "outputs": [],
   "source": [
    "B = np.array([[1,3],\n",
    "              [2,3],\n",
    "              [4,1]])"
   ]
  },
  {
   "cell_type": "markdown",
   "metadata": {},
   "source": [
    "The subspace of a Matrix above is a plane containing both vectors [1,2,4] [3,3,1] and [0,0,0]. It is called column space."
   ]
  },
  {
   "cell_type": "code",
   "execution_count": 6,
   "metadata": {},
   "outputs": [],
   "source": [
    "A = np.array([[1,1,2],\n",
    "            [2,1,3],\n",
    "            [3,1,4],\n",
    "            [4,1,5]])"
   ]
  },
  {
   "cell_type": "markdown",
   "metadata": {},
   "source": [
    "Ax=b can be solved if b is a vector in A's column space C(A), subspace of R^4"
   ]
  },
  {
   "cell_type": "markdown",
   "metadata": {},
   "source": [
    "Nullspace of A  = all x to Ax=0. Subspace in R^3"
   ]
  },
  {
   "cell_type": "code",
   "execution_count": 12,
   "metadata": {},
   "outputs": [
    {
     "data": {
      "text/plain": [
       "array([  3.49712164e-317,   3.48310470e-316,   1.03565606e-316,\n",
       "         8.10513562e-315])"
      ]
     },
     "execution_count": 12,
     "metadata": {},
     "output_type": "execute_result"
    }
   ],
   "source": [
    "b=np.empty(4)\n",
    "b"
   ]
  },
  {
   "cell_type": "markdown",
   "metadata": {},
   "source": [
    "Rank of matrix. Ax=0"
   ]
  },
  {
   "cell_type": "code",
   "execution_count": 14,
   "metadata": {},
   "outputs": [],
   "source": [
    "A = np.array([[1,2,2,2],\n",
    "             [2,4,6,8],\n",
    "             [3,6,8,10]])"
   ]
  },
  {
   "cell_type": "code",
   "execution_count": 15,
   "metadata": {},
   "outputs": [],
   "source": [
    "A2 = np.array([[1,2,2,2],\n",
    "               [0,0,2,4],\n",
    "               [0,0,2,4]])"
   ]
  },
  {
   "cell_type": "code",
   "execution_count": 26,
   "metadata": {},
   "outputs": [
    {
     "data": {
      "text/plain": [
       "array([[1, 2, 2, 2],\n",
       "       [0, 0, 2, 4],\n",
       "       [0, 0, 0, 0]])"
      ]
     },
     "execution_count": 26,
     "metadata": {},
     "output_type": "execute_result"
    }
   ],
   "source": [
    "A3 = np.array([[1,2,2,2],\n",
    "              [0,0,2,4],\n",
    "              [0,0,0,0]])\n",
    "U = A3\n",
    "U"
   ]
  },
  {
   "cell_type": "markdown",
   "metadata": {},
   "source": [
    "2 pivots, means a rank of 2. x1 and x3 - pivot variables."
   ]
  },
  {
   "cell_type": "markdown",
   "metadata": {},
   "source": [
    "Variable x2 and x4 are free variables."
   ]
  },
  {
   "cell_type": "code",
   "execution_count": 40,
   "metadata": {},
   "outputs": [
    {
     "data": {
      "text/plain": [
       "array([0, 0, 0])"
      ]
     },
     "execution_count": 40,
     "metadata": {},
     "output_type": "execute_result"
    }
   ],
   "source": [
    "r = 2\n",
    "xn1 = np.array([-2,1,0,0])\n",
    "xn2 = np.array([2,0,-2,1])\n",
    "np.dot(A,xn2)"
   ]
  },
  {
   "cell_type": "markdown",
   "metadata": {},
   "source": [
    "Reduced row echelon form. The goal is to have 0s above and below pivots. And make pivots =1."
   ]
  },
  {
   "cell_type": "code",
   "execution_count": 22,
   "metadata": {},
   "outputs": [],
   "source": [
    "U2 = np.array([[1,2,0,-2],\n",
    "             [0,0,2,4],\n",
    "             [0,0,0,0]])"
   ]
  },
  {
   "cell_type": "code",
   "execution_count": 25,
   "metadata": {},
   "outputs": [
    {
     "data": {
      "text/plain": [
       "array([[ 1,  2,  0, -2],\n",
       "       [ 0,  0,  1,  2],\n",
       "       [ 0,  0,  0,  0]])"
      ]
     },
     "execution_count": 25,
     "metadata": {},
     "output_type": "execute_result"
    }
   ],
   "source": [
    "U3 = np.array([[1,2,0,-2],\n",
    "              [0,0,1,2],\n",
    "              [0,0,0,0]])\n",
    "R = U3\n",
    "R"
   ]
  },
  {
   "cell_type": "markdown",
   "metadata": {},
   "source": [
    "R = [I,F]\n",
    "    [0,0]\n",
    " pivot free\n",
    " \n",
    " x = [-F]\n",
    "     [I ]"
   ]
  },
  {
   "cell_type": "markdown",
   "metadata": {},
   "source": [
    "Augmented matrix. [A | b]"
   ]
  },
  {
   "cell_type": "code",
   "execution_count": 31,
   "metadata": {},
   "outputs": [
    {
     "data": {
      "text/plain": [
       "array([[ 1,  2,  2,  2,  1],\n",
       "       [ 2,  4,  6,  8,  5],\n",
       "       [ 3,  6,  8, 10,  6]])"
      ]
     },
     "execution_count": 31,
     "metadata": {},
     "output_type": "execute_result"
    }
   ],
   "source": [
    "b = [1,5,6]\n",
    "Aug = np.c_[A,b]\n",
    "Aug"
   ]
  },
  {
   "cell_type": "code",
   "execution_count": 34,
   "metadata": {},
   "outputs": [
    {
     "data": {
      "text/plain": [
       "array([[1, 2, 2, 2, 1],\n",
       "       [0, 0, 2, 4, 3],\n",
       "       [0, 0, 0, 0, 0]])"
      ]
     },
     "execution_count": 34,
     "metadata": {},
     "output_type": "execute_result"
    }
   ],
   "source": [
    "Uaug = np.c_[U,np.array([b[0],b[1]-2*b[0],b[2]-b[1]-b[0]])]\n",
    "Uaug\n"
   ]
  },
  {
   "cell_type": "markdown",
   "metadata": {},
   "source": [
    "Solvable if b is in C(A). If combination of A rows gives 0 row, then the same combination of b entries should give 0."
   ]
  },
  {
   "cell_type": "markdown",
   "metadata": {},
   "source": [
    "To find a particular solution a good practice is to assigns 0s to free variable and find unique solution."
   ]
  },
  {
   "cell_type": "markdown",
   "metadata": {},
   "source": [
    "Then we find Nullspace solutions."
   ]
  },
  {
   "cell_type": "markdown",
   "metadata": {},
   "source": [
    "Final solution will be xp+xn. Axp=b; Axn=0;A(xp+xn)=b - complete solution xc = xp + c1*xn1 + c2*xn2. c - any constants"
   ]
  },
  {
   "cell_type": "code",
   "execution_count": 42,
   "metadata": {},
   "outputs": [
    {
     "data": {
      "text/plain": [
       "array([-2. ,  1. , -0.5,  1. ])"
      ]
     },
     "execution_count": 42,
     "metadata": {},
     "output_type": "execute_result"
    }
   ],
   "source": [
    "xc = np.array([-2,0,3/2,0])+xn1+xn2\n",
    "xc"
   ]
  },
  {
   "cell_type": "markdown",
   "metadata": {},
   "source": [
    "If r = n - full column rank, xn - zero vector, thus x = xp, if xp - exists. Hence 0 or 1 solution."
   ]
  },
  {
   "cell_type": "markdown",
   "metadata": {},
   "source": [
    "If r=n=m full rank matrix. R = I. Unique solution for any b (1 solution.\n"
   ]
  },
  {
   "cell_type": "markdown",
   "metadata": {},
   "source": [
    "If r=m<n R=[IF], 1 or infinite solutions."
   ]
  },
  {
   "cell_type": "markdown",
   "metadata": {},
   "source": [
    "If r<m, r<n R =[I/0 F/0] - 0 or infinite solutions."
   ]
  },
  {
   "cell_type": "code",
   "execution_count": null,
   "metadata": {},
   "outputs": [],
   "source": []
  }
 ],
 "metadata": {
  "kernelspec": {
   "display_name": "Python 3",
   "language": "python",
   "name": "python3"
  },
  "language_info": {
   "codemirror_mode": {
    "name": "ipython",
    "version": 3
   },
   "file_extension": ".py",
   "mimetype": "text/x-python",
   "name": "python",
   "nbconvert_exporter": "python",
   "pygments_lexer": "ipython3",
   "version": "3.5.2"
  }
 },
 "nbformat": 4,
 "nbformat_minor": 2
}
